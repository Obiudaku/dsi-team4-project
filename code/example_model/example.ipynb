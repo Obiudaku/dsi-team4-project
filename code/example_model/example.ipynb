{
 "cells": [
  {
   "cell_type": "code",
   "execution_count": 1,
   "metadata": {},
   "outputs": [],
   "source": [
    "import os\n",
    "import sys\n",
    "\n",
    "lib_path = os.path.abspath(os.path.join('..'))\n",
    "if lib_path not in sys.path:\n",
    "    sys.path.append(lib_path)"
   ]
  },
  {
   "cell_type": "code",
   "execution_count": 2,
   "metadata": {},
   "outputs": [],
   "source": [
    "import pandas as pd\n",
    "from lib.helper import load_coin_data, filter_by_years, split_train_test"
   ]
  },
  {
   "cell_type": "code",
   "execution_count": 3,
   "metadata": {},
   "outputs": [
    {
     "name": "stdout",
     "output_type": "stream",
     "text": [
      "<class 'pandas.core.frame.DataFrame'>\n",
      "Index: 942294 entries, 0 to 942295\n",
      "Data columns (total 13 columns):\n",
      " #   Column       Non-Null Count   Dtype         \n",
      "---  ------       --------------   -----         \n",
      " 0   slug         942294 non-null  object        \n",
      " 1   symbol       942294 non-null  object        \n",
      " 2   name         942294 non-null  object        \n",
      " 3   date         942294 non-null  datetime64[ns]\n",
      " 4   ranknow      942294 non-null  int64         \n",
      " 5   open         942294 non-null  float64       \n",
      " 6   high         942294 non-null  float64       \n",
      " 7   low          942294 non-null  float64       \n",
      " 8   close        942294 non-null  float64       \n",
      " 9   volume       942294 non-null  float64       \n",
      " 10  market       942294 non-null  float64       \n",
      " 11  close_ratio  942294 non-null  float64       \n",
      " 12  spread       942294 non-null  float64       \n",
      "dtypes: datetime64[ns](1), float64(8), int64(1), object(3)\n",
      "memory usage: 100.6+ MB\n"
     ]
    }
   ],
   "source": [
    "# load dataset\n",
    "DATA_FILE = '../../data/crypto-markets.csv'\n",
    "df = load_coin_data(DATA_FILE)\n",
    "df.info()"
   ]
  },
  {
   "cell_type": "code",
   "execution_count": 4,
   "metadata": {},
   "outputs": [
    {
     "name": "stdout",
     "output_type": "stream",
     "text": [
      "<class 'pandas.core.frame.DataFrame'>\n",
      "Index: 261780 entries, 0 to 941283\n",
      "Data columns (total 13 columns):\n",
      " #   Column       Non-Null Count   Dtype         \n",
      "---  ------       --------------   -----         \n",
      " 0   slug         261780 non-null  object        \n",
      " 1   symbol       261780 non-null  object        \n",
      " 2   name         261780 non-null  object        \n",
      " 3   date         261780 non-null  datetime64[ns]\n",
      " 4   ranknow      261780 non-null  int64         \n",
      " 5   open         261780 non-null  float64       \n",
      " 6   high         261780 non-null  float64       \n",
      " 7   low          261780 non-null  float64       \n",
      " 8   close        261780 non-null  float64       \n",
      " 9   volume       261780 non-null  float64       \n",
      " 10  market       261780 non-null  float64       \n",
      " 11  close_ratio  261780 non-null  float64       \n",
      " 12  spread       261780 non-null  float64       \n",
      "dtypes: datetime64[ns](1), float64(8), int64(1), object(3)\n",
      "memory usage: 28.0+ MB\n"
     ]
    }
   ],
   "source": [
    "# filter to coins with 4+ years of data\n",
    "df = filter_by_years(df)\n",
    "df.info()"
   ]
  },
  {
   "cell_type": "code",
   "execution_count": 5,
   "metadata": {},
   "outputs": [
    {
     "name": "stdout",
     "output_type": "stream",
     "text": [
      "Training set: (205449, 13)\n",
      "Testing set: (56331, 13)\n"
     ]
    }
   ],
   "source": [
    "# split data into train/test dataset\n",
    "train, test = split_train_test(df)\n",
    "print(f\"Training set: {train.shape}\")\n",
    "print(f\"Testing set: {test.shape}\")"
   ]
  }
 ],
 "metadata": {
  "kernelspec": {
   "display_name": "dsi_participant",
   "language": "python",
   "name": "python3"
  },
  "language_info": {
   "codemirror_mode": {
    "name": "ipython",
    "version": 3
   },
   "file_extension": ".py",
   "mimetype": "text/x-python",
   "name": "python",
   "nbconvert_exporter": "python",
   "pygments_lexer": "ipython3",
   "version": "3.9.18"
  }
 },
 "nbformat": 4,
 "nbformat_minor": 2
}
