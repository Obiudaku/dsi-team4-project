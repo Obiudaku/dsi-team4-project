{
 "cells": [
  {
   "cell_type": "code",
   "execution_count": 1,
   "metadata": {},
   "outputs": [],
   "source": [
    "import os\n",
    "import sys\n",
    "\n",
    "lib_path = os.path.abspath(os.path.join('..'))\n",
    "if lib_path not in sys.path:\n",
    "    sys.path.append(lib_path)"
   ]
  },
  {
   "cell_type": "code",
   "execution_count": 2,
   "metadata": {},
   "outputs": [],
   "source": [
    "import pandas as pd\n",
    "from lib.helper import load_coin_data, filter_by_years, split_train_test"
   ]
  },
  {
   "cell_type": "code",
   "execution_count": 3,
   "metadata": {},
   "outputs": [
    {
     "name": "stdout",
     "output_type": "stream",
     "text": [
      "<class 'pandas.core.frame.DataFrame'>\n",
      "RangeIndex: 942294 entries, 0 to 942293\n",
      "Data columns (total 13 columns):\n",
      " #   Column       Non-Null Count   Dtype         \n",
      "---  ------       --------------   -----         \n",
      " 0   slug         942294 non-null  object        \n",
      " 1   symbol       942294 non-null  object        \n",
      " 2   name         942294 non-null  object        \n",
      " 3   date         942294 non-null  datetime64[ns]\n",
      " 4   ranknow      942294 non-null  int64         \n",
      " 5   open         942294 non-null  float64       \n",
      " 6   high         942294 non-null  float64       \n",
      " 7   low          942294 non-null  float64       \n",
      " 8   close        942294 non-null  float64       \n",
      " 9   volume       942294 non-null  float64       \n",
      " 10  market       942294 non-null  float64       \n",
      " 11  close_ratio  942294 non-null  float64       \n",
      " 12  spread       942294 non-null  float64       \n",
      "dtypes: datetime64[ns](1), float64(8), int64(1), object(3)\n",
      "memory usage: 93.5+ MB\n"
     ]
    }
   ],
   "source": [
    "# load dataset\n",
    "df = load_coin_data()\n",
    "df.info()"
   ]
  },
  {
   "cell_type": "code",
   "execution_count": 4,
   "metadata": {},
   "outputs": [
    {
     "name": "stdout",
     "output_type": "stream",
     "text": [
      "<class 'pandas.core.frame.DataFrame'>\n",
      "RangeIndex: 261780 entries, 0 to 261779\n",
      "Data columns (total 13 columns):\n",
      " #   Column       Non-Null Count   Dtype         \n",
      "---  ------       --------------   -----         \n",
      " 0   slug         261780 non-null  object        \n",
      " 1   symbol       261780 non-null  object        \n",
      " 2   name         261780 non-null  object        \n",
      " 3   date         261780 non-null  datetime64[ns]\n",
      " 4   ranknow      261780 non-null  int64         \n",
      " 5   open         261780 non-null  float64       \n",
      " 6   high         261780 non-null  float64       \n",
      " 7   low          261780 non-null  float64       \n",
      " 8   close        261780 non-null  float64       \n",
      " 9   volume       261780 non-null  float64       \n",
      " 10  market       261780 non-null  float64       \n",
      " 11  close_ratio  261780 non-null  float64       \n",
      " 12  spread       261780 non-null  float64       \n",
      "dtypes: datetime64[ns](1), float64(8), int64(1), object(3)\n",
      "memory usage: 26.0+ MB\n"
     ]
    }
   ],
   "source": [
    "# filter to coins with 4+ years of data\n",
    "df = filter_by_years(df)\n",
    "df.info()"
   ]
  },
  {
   "cell_type": "code",
   "execution_count": 5,
   "metadata": {},
   "outputs": [],
   "source": [
    "# split data into train/test dataset\n",
    "train, test = split_train_test(df)"
   ]
  },
  {
   "cell_type": "code",
   "execution_count": 6,
   "metadata": {},
   "outputs": [
    {
     "name": "stdout",
     "output_type": "stream",
     "text": [
      "<class 'pandas.core.frame.DataFrame'>\n",
      "RangeIndex: 205449 entries, 0 to 205448\n",
      "Data columns (total 13 columns):\n",
      " #   Column       Non-Null Count   Dtype         \n",
      "---  ------       --------------   -----         \n",
      " 0   slug         205449 non-null  object        \n",
      " 1   symbol       205449 non-null  object        \n",
      " 2   name         205449 non-null  object        \n",
      " 3   date         205449 non-null  datetime64[ns]\n",
      " 4   ranknow      205449 non-null  int64         \n",
      " 5   open         205449 non-null  float64       \n",
      " 6   high         205449 non-null  float64       \n",
      " 7   low          205449 non-null  float64       \n",
      " 8   close        205449 non-null  float64       \n",
      " 9   volume       205449 non-null  float64       \n",
      " 10  market       205449 non-null  float64       \n",
      " 11  close_ratio  205449 non-null  float64       \n",
      " 12  spread       205449 non-null  float64       \n",
      "dtypes: datetime64[ns](1), float64(8), int64(1), object(3)\n",
      "memory usage: 20.4+ MB\n"
     ]
    }
   ],
   "source": [
    "train.info()"
   ]
  },
  {
   "cell_type": "code",
   "execution_count": 7,
   "metadata": {},
   "outputs": [
    {
     "name": "stdout",
     "output_type": "stream",
     "text": [
      "<class 'pandas.core.frame.DataFrame'>\n",
      "RangeIndex: 56331 entries, 0 to 56330\n",
      "Data columns (total 13 columns):\n",
      " #   Column       Non-Null Count  Dtype         \n",
      "---  ------       --------------  -----         \n",
      " 0   slug         56331 non-null  object        \n",
      " 1   symbol       56331 non-null  object        \n",
      " 2   name         56331 non-null  object        \n",
      " 3   date         56331 non-null  datetime64[ns]\n",
      " 4   ranknow      56331 non-null  int64         \n",
      " 5   open         56331 non-null  float64       \n",
      " 6   high         56331 non-null  float64       \n",
      " 7   low          56331 non-null  float64       \n",
      " 8   close        56331 non-null  float64       \n",
      " 9   volume       56331 non-null  float64       \n",
      " 10  market       56331 non-null  float64       \n",
      " 11  close_ratio  56331 non-null  float64       \n",
      " 12  spread       56331 non-null  float64       \n",
      "dtypes: datetime64[ns](1), float64(8), int64(1), object(3)\n",
      "memory usage: 5.6+ MB\n"
     ]
    }
   ],
   "source": [
    "test.info()"
   ]
  }
 ],
 "metadata": {
  "kernelspec": {
   "display_name": "dsi_participant",
   "language": "python",
   "name": "python3"
  },
  "language_info": {
   "codemirror_mode": {
    "name": "ipython",
    "version": 3
   },
   "file_extension": ".py",
   "mimetype": "text/x-python",
   "name": "python",
   "nbconvert_exporter": "python",
   "pygments_lexer": "ipython3",
   "version": "3.9.18"
  }
 },
 "nbformat": 4,
 "nbformat_minor": 2
}
