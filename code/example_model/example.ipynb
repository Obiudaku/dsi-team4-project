{
 "cells": [
  {
   "cell_type": "code",
   "execution_count": 1,
   "metadata": {},
   "outputs": [],
   "source": [
    "import os\n",
    "import sys\n",
    "\n",
    "lib_path = os.path.abspath(os.path.join('..'))\n",
    "if lib_path not in sys.path:\n",
    "    sys.path.append(lib_path)"
   ]
  },
  {
   "cell_type": "code",
   "execution_count": 2,
   "metadata": {},
   "outputs": [],
   "source": [
    "import pandas as pd\n",
    "from lib.helper import load_coin_data, filter_by_years, split_train_test"
   ]
  },
  {
   "cell_type": "code",
   "execution_count": 3,
   "metadata": {},
   "outputs": [
    {
     "name": "stdout",
     "output_type": "stream",
     "text": [
      "<class 'pandas.core.frame.DataFrame'>\n",
      "RangeIndex: 940223 entries, 0 to 940222\n",
      "Data columns (total 15 columns):\n",
      " #   Column       Non-Null Count   Dtype         \n",
      "---  ------       --------------   -----         \n",
      " 0   slug         940223 non-null  object        \n",
      " 1   symbol       940223 non-null  object        \n",
      " 2   name         940223 non-null  object        \n",
      " 3   date         940223 non-null  datetime64[ns]\n",
      " 4   ranknow      940223 non-null  int64         \n",
      " 5   open         940223 non-null  float64       \n",
      " 6   high         940223 non-null  float64       \n",
      " 7   low          940223 non-null  float64       \n",
      " 8   close        940223 non-null  float64       \n",
      " 9   volume       940223 non-null  float64       \n",
      " 10  market       940223 non-null  float64       \n",
      " 11  close_ratio  940223 non-null  float64       \n",
      " 12  spread       940223 non-null  float64       \n",
      " 13  next_close   940223 non-null  float64       \n",
      " 14  next_return  940223 non-null  float64       \n",
      "dtypes: datetime64[ns](1), float64(10), int64(1), object(3)\n",
      "memory usage: 107.6+ MB\n"
     ]
    }
   ],
   "source": [
    "# load dataset\n",
    "df = load_coin_data()\n",
    "df.info()"
   ]
  },
  {
   "cell_type": "code",
   "execution_count": 4,
   "metadata": {},
   "outputs": [
    {
     "name": "stdout",
     "output_type": "stream",
     "text": [
      "<class 'pandas.core.frame.DataFrame'>\n",
      "RangeIndex: 260165 entries, 0 to 260164\n",
      "Data columns (total 15 columns):\n",
      " #   Column       Non-Null Count   Dtype         \n",
      "---  ------       --------------   -----         \n",
      " 0   slug         260165 non-null  object        \n",
      " 1   symbol       260165 non-null  object        \n",
      " 2   name         260165 non-null  object        \n",
      " 3   date         260165 non-null  datetime64[ns]\n",
      " 4   ranknow      260165 non-null  int64         \n",
      " 5   open         260165 non-null  float64       \n",
      " 6   high         260165 non-null  float64       \n",
      " 7   low          260165 non-null  float64       \n",
      " 8   close        260165 non-null  float64       \n",
      " 9   volume       260165 non-null  float64       \n",
      " 10  market       260165 non-null  float64       \n",
      " 11  close_ratio  260165 non-null  float64       \n",
      " 12  spread       260165 non-null  float64       \n",
      " 13  next_close   260165 non-null  float64       \n",
      " 14  next_return  260165 non-null  float64       \n",
      "dtypes: datetime64[ns](1), float64(10), int64(1), object(3)\n",
      "memory usage: 29.8+ MB\n"
     ]
    }
   ],
   "source": [
    "# filter to coins with 4+ years of data\n",
    "df = filter_by_years(df)\n",
    "df.info()"
   ]
  },
  {
   "cell_type": "code",
   "execution_count": 5,
   "metadata": {},
   "outputs": [],
   "source": [
    "# split data into train/test dataset\n",
    "train, test = split_train_test(df)"
   ]
  },
  {
   "cell_type": "code",
   "execution_count": 6,
   "metadata": {},
   "outputs": [
    {
     "name": "stdout",
     "output_type": "stream",
     "text": [
      "<class 'pandas.core.frame.DataFrame'>\n",
      "RangeIndex: 204353 entries, 0 to 204352\n",
      "Data columns (total 15 columns):\n",
      " #   Column       Non-Null Count   Dtype         \n",
      "---  ------       --------------   -----         \n",
      " 0   slug         204353 non-null  object        \n",
      " 1   symbol       204353 non-null  object        \n",
      " 2   name         204353 non-null  object        \n",
      " 3   date         204353 non-null  datetime64[ns]\n",
      " 4   ranknow      204353 non-null  int64         \n",
      " 5   open         204353 non-null  float64       \n",
      " 6   high         204353 non-null  float64       \n",
      " 7   low          204353 non-null  float64       \n",
      " 8   close        204353 non-null  float64       \n",
      " 9   volume       204353 non-null  float64       \n",
      " 10  market       204353 non-null  float64       \n",
      " 11  close_ratio  204353 non-null  float64       \n",
      " 12  spread       204353 non-null  float64       \n",
      " 13  next_close   204353 non-null  float64       \n",
      " 14  next_return  204353 non-null  float64       \n",
      "dtypes: datetime64[ns](1), float64(10), int64(1), object(3)\n",
      "memory usage: 23.4+ MB\n"
     ]
    }
   ],
   "source": [
    "train.info()"
   ]
  },
  {
   "cell_type": "code",
   "execution_count": 7,
   "metadata": {},
   "outputs": [
    {
     "name": "stdout",
     "output_type": "stream",
     "text": [
      "<class 'pandas.core.frame.DataFrame'>\n",
      "RangeIndex: 55812 entries, 0 to 55811\n",
      "Data columns (total 15 columns):\n",
      " #   Column       Non-Null Count  Dtype         \n",
      "---  ------       --------------  -----         \n",
      " 0   slug         55812 non-null  object        \n",
      " 1   symbol       55812 non-null  object        \n",
      " 2   name         55812 non-null  object        \n",
      " 3   date         55812 non-null  datetime64[ns]\n",
      " 4   ranknow      55812 non-null  int64         \n",
      " 5   open         55812 non-null  float64       \n",
      " 6   high         55812 non-null  float64       \n",
      " 7   low          55812 non-null  float64       \n",
      " 8   close        55812 non-null  float64       \n",
      " 9   volume       55812 non-null  float64       \n",
      " 10  market       55812 non-null  float64       \n",
      " 11  close_ratio  55812 non-null  float64       \n",
      " 12  spread       55812 non-null  float64       \n",
      " 13  next_close   55812 non-null  float64       \n",
      " 14  next_return  55812 non-null  float64       \n",
      "dtypes: datetime64[ns](1), float64(10), int64(1), object(3)\n",
      "memory usage: 6.4+ MB\n"
     ]
    }
   ],
   "source": [
    "test.info()"
   ]
  }
 ],
 "metadata": {
  "kernelspec": {
   "display_name": "dsi_participant",
   "language": "python",
   "name": "python3"
  },
  "language_info": {
   "codemirror_mode": {
    "name": "ipython",
    "version": 3
   },
   "file_extension": ".py",
   "mimetype": "text/x-python",
   "name": "python",
   "nbconvert_exporter": "python",
   "pygments_lexer": "ipython3",
   "version": "3.9.18"
  }
 },
 "nbformat": 4,
 "nbformat_minor": 2
}
